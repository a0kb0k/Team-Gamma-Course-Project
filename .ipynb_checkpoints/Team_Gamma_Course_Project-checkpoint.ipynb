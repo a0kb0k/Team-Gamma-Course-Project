{
 "cells": [
  {
   "cell_type": "markdown",
   "id": "c710f173",
   "metadata": {},
   "source": [
    "<font size=\"6\">EN.535.610 Computational Methods of Analysis</font> \n",
    "\n",
    "<font size=\"6\">**Course Project: Thermal Simulation of PCBs and Heatsinks**</font>\n",
    "    \n",
    "<font size=\"3\">  Created By:</font> \n",
    "\n",
    "<font size=\"4\"> David Baltazar and Diego Ortiz</font> "
   ]
  },
  {
   "cell_type": "markdown",
   "id": "249738cf-9a6e-46d5-ac51-4fc32d57e0ba",
   "metadata": {},
   "source": [
    "# Inspiration\n",
    "\n",
    "The topic was decided on as both members of Team Gamma (David Baltazar and Diego Ortiz) are \n",
    "involved with simulations in our careers. While we both specialize in different fields (David im \n",
    "Thermal, Shock, and Vibration, and Diego in Fluid Dynamics and Aerodynamics), both of o r\n",
    "companies have sought the need for active cooling heatsinks at some point - and are seeing  he\n",
    "potential need for it in the future. The program we wanted to develop was something that could  elp\n",
    "us conduct thermal analyses on various types of active heatsinks (like heat pumps or fans), an  see\n",
    "the effects they have on our systems. While the Python simulation might not be the most accur te in\n",
    "terms of the assumptions and boundary conditions we intend to set on it, we intend to use  t more\n",
    "for getting general ideas on how complex or big or expensive a cooling system will be - which w ll help\n",
    "put into perspective the feasibility of an idea during the initial design phase. As we both spec alize in\n",
    "simulations, setting up accurate/realistic simulations is time-consuming and tiring - whic  is where\n",
    "having a quick and easy script like the one we are proposing will best be used; so that we can get\n",
    "general ideas of whether or not a system will work before committing hors into it."
   ]
  },
  {
   "cell_type": "markdown",
   "id": "c08aa2a5",
   "metadata": {},
   "source": [
    "# Main Functions\n",
    "\n",
    "For this project, we will be conduting a thermal analysis on a PCB board when under the effects of different types of heatsinks. \n",
    "\n",
    "(Diego's part for heatsinks)\n",
    "\n",
    "For the PCB end, the effective thermal conductivity, specific heats, and densities will be calculated using thermal resistance networks and overall conductance methods. This will be done through class methods created in this script, which will help faciliate the inputs for the main thermal simulation library, heatrapy. From there, electrical components with significant heat dissipation will be modeled into the 2-D simulation using special class methods made in this script, and with heatrapy functions. Once all of these are established, a transient thermal analysis will be conducted to calculate the temperatures of each of the components and a temperature of the board will be displayed. "
   ]
  },
  {
   "cell_type": "markdown",
   "id": "743cf7ec-3189-4294-9ae7-0e95a7dc6214",
   "metadata": {},
   "source": [
    "# Problem Statement\n",
    "\n",
    "(Diego, please find a way to implement your part in this)\n",
    "\n",
    "As an example of how this code works, we will use it to find out what the hottest temperatures are of the components of a PCB board. In this example, we have a 4'' x 6'' PCB board made up of 2 layers of .0028'' thick Cu, 2 layers of .004'' thick VT-5A2 insulative material, and 1 layer of .062'' thick Al-Clad as the base layer. For the components, a preliminary power analysis was performed previously by an electrical engineer to find that the following components have the highest heat dissipation to them:\n",
    "\n",
    "    -3 FETs (one at 4.8W, one at 2.8W, one at 2.0W)\n",
    "    -2 Transformers (one at 4.4W, one at 2.2W)\n",
    "    -2 Inductors (one at 6.0W, one at 3.0W)\n",
    "    -1 Common Mode Choke (one at 4.0W)\n",
    "    \n",
    "The duty cycle of the PCB board is to run for 2 minutes under the conditions of the power analysis before resting and cooling off for another 10 minutes. It can be assumed that the heatsink is ran constantly so the board can be considered to be at the cooled ambient temperature of 27 C (or 300 K) at the start of each duty cycle. The PCBA will also be operating in a sealed environment, so convection effects on the PCB side will be neglected as a conservative approach to the analysis. Radiation effects are also negligible at this time. \n",
    "\n",
    "Given the operation and duty cycle of the system, we are looking to see what the maximum temperaturs of each of the critical components mentioned will be - which will be at the end of the duty cycle (i.e. 2 minutes) since the components will be operating a constant load. We not only need to consider the inherent temperature rises the components experience from its electrical load, but also the temperature rises from thermal spreading of the board through conduction.\n",
    "\n",
    "![Figure_1](https://raw.githubusercontent.com/a0kb0k/Thermal-Analysis-Pictures/main/PCB%20-%20Main%20View.png)"
   ]
  },
  {
   "cell_type": "markdown",
   "id": "bdc8848c-36bb-4b11-bb64-37997420d023",
   "metadata": {},
   "source": [
    "# Report Structure\n",
    "\n",
    "The analysis is broken up into XXXXXXX main sections:\n",
    "\n",
    "    - Requirements\n",
    "    - (Diego's stuff)\n",
    "    - PCB Property Calculation\n",
    "    - Electrical Component Modeling\n",
    "    - Thermal Simulation\n",
    "    - Results\n",
    "    - Accuracy\n",
    "    - Improvements"
   ]
  },
  {
   "cell_type": "markdown",
   "id": "51cfe7f1",
   "metadata": {},
   "source": [
    "# Requirements\n",
    "\n",
    "The following sections lists all libraries and modules used to run this program. "
   ]
  },
  {
   "cell_type": "markdown",
   "id": "fcdc37b9",
   "metadata": {},
   "source": [
    "## Heatrapy\n",
    "\n",
    "The heatrapy library is needed to run this script. The heatrapy module is used to do the actual thermal analysis and this script creates many classes and functions to facilitate the inputs for the heatrapy simulation\n",
    "\n",
    "(maybe Diego can do)"
   ]
  },
  {
   "cell_type": "markdown",
   "id": "2ef049ce-bf01-4cd9-9061-ac864f5d3f28",
   "metadata": {},
   "source": [
    "## Importing Modules\n",
    "\n",
    "The following block imports all the necessary libraries needed to run this analysis.\n",
    "\n",
    "It is worthwhile to mention that there was difficulty importing the heatrapy module onto a Windows computer. The heatrapy module was originally made in Linux and may contribute to the errors we encountered when trying to install it in our shell manager. The way we were able to get it to work on our end was by creating the main script inside of the actual heatrapy repository by changing the directory. All this to say that methods of installing heatrapy may differ depending on the type of environment the program is being ran on - but as long as the heatrapy module is able to be imported, this code will function as intended."
   ]
  },
  {
   "cell_type": "code",
   "execution_count": 1,
   "id": "51b2518d",
   "metadata": {},
   "outputs": [],
   "source": [
    "import os\n",
    "import heatrapy as htp\n",
    "\n",
    "main_dir = os.getcwd()"
   ]
  },
  {
   "cell_type": "markdown",
   "id": "0f90bf99-55cb-4193-9257-0462df6579e0",
   "metadata": {},
   "source": [
    "# Diego's section for heatsinks"
   ]
  },
  {
   "cell_type": "markdown",
   "id": "25467954",
   "metadata": {},
   "source": [
    "# PCB Property Calculation\n",
    "\n",
    "PCB's are laminates of different materials. With each material having their own thermal conductivities, the combined conductivity of the PCB can be calculated using the overall thermal conductance method.\n",
    "\n",
    "<img src=\"https://raw.githubusercontent.com/a0kb0k/Thermal-Analysis-Pictures/main/PCB%20-%20Orientation.png\" width=\"500\"/>\n"
   ]
  },
  {
   "cell_type": "markdown",
   "id": "d0db5410",
   "metadata": {},
   "source": [
    "## PCB_Layer() Class Method\n",
    "\n",
    "When doing FEA analyses, the geometry of each part plays a major part in meshing. In general, slender geometries (long and thin) result in high number of elements when creating the mesh, which can lead to singularities that don't give realistic results, or lead to long computation times because of all the elements that need calculating. PCB boards already have a slender shape to them since they are typically wider and longer than they are thick - and it gets even worse with the fact that PCBs are laminated layers of different materials. The best way to treat PCB boards is to treat all the layers as one single material (instead of multiple thin layers) in order to save a mesh from going overboard. However to do this, overall thermal properties of the board will need to be re-calculated to ensure realistic results.\n",
    "<br>\n",
    "<img src=\"https://raw.githubusercontent.com/a0kb0k/Thermal-Analysis-Pictures/main/PCB%20-%20Layers.png\" width=\"600\"/>\n",
    "<br>\n",
    "<br>\n",
    "To calculate the overall conductance of the board, the geometry and thermal properties of each layer must be defined. The class method, PCB_Layer(), takes in the geometry of the layer (length (m), width (m), and thickness(m)) and the orthotropic thermal conductivity values (k (W/mK) in the x-, y-, and z-direction) to build the thermal resistance network. \n",
    "<br>\n",
    "<br>\n",
    "The density, rho, and the specific heat, cp, are also taken as inputs to be used when calculating the overall properties of the entire board. There is also an additional input where you can specify how many layers of the material there are in the board. PCBs commonly have multiple layers of the same material (typically Copper and some insulative material) in alternating pattern. However, to calculate the overall thermal conductivity of the board, the exact positon of each layer does not need to be defined - but rather how many layers there are of it. \n",
    "<br>\n",
    "<br>\n",
    "From there, the thermal resitance of the layer can be calculated. For the thermal resistance in the normal direction (ie going through the board), this is calculated in series - much like how the heat is going through layer after layer. The thermal resistance in the transverse direction (ie along the width and length of the board), this is calculated in parallel since the heat is going through all of the laminate layers at once. \n",
    "<br>\n",
    "<img src=\"https://raw.githubusercontent.com/a0kb0k/Thermal-Analysis-Pictures/main/TRN%20-%20Combined.png\" width=\"800\"/>\n",
    "<br>\n",
    "<br>\n",
    "The PCB_Layer() class method has built-in functions inside of it to calculate these thermal resistances.\n",
    ">'total_z'       Calculates overall thickness of all the layers<br>\n",
    "'total_mass'     Calculates overall mass of all the layers<br>\n",
    "'resist_x'       Calculates overall thermal resistance in x-dir (transverse) of all the layers<br>\n",
    "'resist_y'       Calculates overall thermal resistance in y-dir (transverse) of all the layers<br>\n",
    "'resist_z'       Calculates overall thermal resistance in z-dir (normal) of all the layers<br>"
   ]
  },
  {
   "cell_type": "code",
   "execution_count": 2,
   "id": "c158138f-0fb1-41cf-bef8-6627d9bd4119",
   "metadata": {},
   "outputs": [],
   "source": [
    "# Class for storing layer properties\n",
    "# Units are as follows: PCB_Layer(length=m, width=m, thk=m, cond_x=W/mK, cond_y=W/mK, cond_z=W/mK, rho=kg/m3, cp=J/kgK, layers=-)\n",
    "class PCB_Layer:\n",
    "    def __init__(self, length, width, thk, cond_x, cond_y, cond_z, rho, cp, layers):\n",
    "        self.length = length\n",
    "        self.width = width\n",
    "        self.thk =  thk\n",
    "        self.cond_x = cond_x\n",
    "        self.cond_y = cond_y\n",
    "        self.cond_z = cond_z\n",
    "        self.layers = layers\n",
    "        self.rho = rho\n",
    "        self.cp = cp\n",
    "\n",
    "    def resist_x(abc):\n",
    "        # Note this is the reciprocal\n",
    "        a_cs_x = abc.length * abc.thk\n",
    "        R_x = (abc.layers * abc.width) / (abc.cond_x * a_cs_x)\n",
    "        return R_x\n",
    "\n",
    "    def resist_y(abc):\n",
    "        # Note this is the reciprocal\n",
    "        a_cs_y = abc.width * abc.thk\n",
    "        R_y = (abc.layers * abc.length) / (abc.cond_y * a_cs_y)\n",
    "        return R_y\n",
    "\n",
    "    def resist_z(abc):\n",
    "        a_cs_z = abc.width * abc.length\n",
    "        R_z = (abc.layers * abc.thk) / (abc.cond_z * a_cs_z)\n",
    "        return R_z\n",
    "\n",
    "    def total_z(abc):\n",
    "        z_total = abc.thk * abc.layers\n",
    "        return z_total\n",
    "\n",
    "    def total_mass(abc):\n",
    "        Volume_layer = abc.width * abc.length * abc.thk\n",
    "        Mass_layer = Volume_layer * abc.layers * abc.rho\n",
    "        return Mass_layer"
   ]
  },
  {
   "cell_type": "markdown",
   "id": "53501157",
   "metadata": {},
   "source": [
    "## Overall() Class Method\n",
    "\n",
    "This class requires the input of a list of materials made using the PCB_Layer() class. From there, the overall thermal resistance is extracted from each material in the list. The thermal resistances are then summed up and used to calculate the overall thermal conductivity of the PCB board. The PCB board is then treated as a single homogenous body, whose thickness is the combined thicknesses of each layer, and its length and width are the same shape as the rest of its layers. The orthotropic thermal conductivities of the PCB board can then be calculated as follows.\n",
    "<br>\n",
    "<img src=\"https://raw.githubusercontent.com/a0kb0k/Thermal-Analysis-Pictures/main/TRN%20-%20Equations.png\" width=\"800\"/>\n",
    "<br>\n",
    "<br>\n",
    "There is also another function inside of the class that allows for calculation of specific heat and density of the overall board. These values are calculated using volumetric proportionality.\n",
    "<br>\n",
    "<img src=\"https://raw.githubusercontent.com/a0kb0k/Thermal-Analysis-Pictures/main/Equation%20-%20rho_cp.png\" width=\"200\"/>\n",
    "<br>\n",
    "<br>\n",
    "The Overall() class method has built-in functions inside of it to calculate the overall thermal conductivities.\n",
    ">'conductivity_x'       Calculates overall thermal conductivity in x-dir (transverse)<br>\n",
    "'conductivity_y'       Calculates overall thermal conductivity in y-dir (transverse)<br>\n",
    "'conductivity_z'       Calculates overall thermal conductivity in z-dir (normal)<br>\n",
    "'density_all'          Calculates overall density<br>\n",
    "'cp_all'               Calculates overall specific heat capacity"
   ]
  },
  {
   "cell_type": "code",
   "execution_count": 3,
   "id": "8bc90ab1-3534-4ad9-aa26-77f7053f6fdd",
   "metadata": {},
   "outputs": [],
   "source": [
    "# Class for calculating overall conductivity via overall conductance\n",
    "# Input is a list of materials that are made with the 'PCB_Layer' class\n",
    "class Overall:\n",
    "    def __init__(self, list):\n",
    "        self.list = list\n",
    "\n",
    "    def conductivity_x(Layer_Materials):\n",
    "        size_check_x, size_check_y = [], []\n",
    "        thk_overall, max_x, max_y = 0, 0, 0\n",
    "        R_x_sum = 0\n",
    "\n",
    "        for laminate in Layer_Materials:\n",
    "            thk_overall += laminate.total_z()\n",
    "            size_check_x.append(laminate.width)\n",
    "            max_x = max(size_check_x)\n",
    "            size_check_y.append(laminate.length)\n",
    "            max_y = max(size_check_y)\n",
    "            \n",
    "            R_x_sum += (1/(laminate.resist_x()))\n",
    "        \n",
    "        R_x_overall = 1/R_x_sum\n",
    "        k_x_overall = max_x / (R_x_overall * (thk_overall*max_y))\n",
    "\n",
    "        return k_x_overall\n",
    "\n",
    "\n",
    "    def conductivity_y(Layer_Materials):\n",
    "        size_check_x, size_check_y = [], []\n",
    "        thk_overall, max_x, max_y = 0, 0, 0\n",
    "        R_y_sum = 0\n",
    "\n",
    "        for laminate in Layer_Materials:\n",
    "            thk_overall += laminate.total_z()\n",
    "            size_check_x.append(laminate.width)\n",
    "            max_x = max(size_check_x)\n",
    "            size_check_y.append(laminate.length)\n",
    "            max_y = max(size_check_y)\n",
    "    \n",
    "            R_y_sum += (1/(laminate.resist_y()))\n",
    "\n",
    "        R_y_overall = 1/R_y_sum\n",
    "        k_y_overall = max_y / (R_y_overall * (max_x*thk_overall))\n",
    "\n",
    "        return k_y_overall\n",
    "\n",
    "\n",
    "    def conductivity_z(Layer_Materials):\n",
    "        size_check_x, size_check_y = [], []\n",
    "        thk_overall, max_x, max_y = 0, 0, 0\n",
    "        R_z_overall = 0\n",
    "\n",
    "        for laminate in Layer_Materials:\n",
    "            thk_overall += laminate.total_z()\n",
    "            size_check_x.append(laminate.width)\n",
    "            max_x = max(size_check_x)\n",
    "            size_check_y.append(laminate.length)\n",
    "            max_y = max(size_check_y)\n",
    "    \n",
    "            R_z_overall += laminate.resist_z()\n",
    "\n",
    "        k_z_overall = thk_overall / (R_z_overall * (max_x*max_y))\n",
    "\n",
    "        return k_z_overall\n",
    "\n",
    "    def density_all(Layer_Materials):\n",
    "        size_check_x, size_check_y = [], []\n",
    "        thk_overall, max_x, max_y = 0, 0, 0\n",
    "        total_mass, total_density = 0, 0\n",
    "\n",
    "        for laminate in Layer_Materials:\n",
    "            thk_overall += laminate.total_z()\n",
    "            size_check_x.append(laminate.width)\n",
    "            max_x = max(size_check_x)\n",
    "            size_check_y.append(laminate.length)\n",
    "            max_y = max(size_check_y)\n",
    "            total_mass += laminate.total_mass()\n",
    "\n",
    "        total_density = total_mass / (thk_overall*max_x*max_y)\n",
    "\n",
    "        return total_density\n",
    "\n",
    "    def cp_all(Layer_Materials):\n",
    "        size_check_x, size_check_y = [], []\n",
    "        thk_overall, max_x, max_y = 0, 0, 0\n",
    "        total_cp, total_mass, total_volume = 0, 0, 0\n",
    "\n",
    "        for laminate in Layer_Materials:\n",
    "            thk_overall += laminate.total_z()\n",
    "            size_check_x.append(laminate.width)\n",
    "            max_x = max(size_check_x)\n",
    "            size_check_y.append(laminate.length)\n",
    "            max_y = max(size_check_y)\n",
    "            total_mass += laminate.total_mass()\n",
    "        \n",
    "        for laminate_2 in Layer_Materials:\n",
    "            total_cp += laminate_2.cp * (laminate_2.total_mass() / total_mass)\n",
    "\n",
    "        return total_cp"
   ]
  },
  {
   "cell_type": "markdown",
   "id": "d3676fe4",
   "metadata": {},
   "source": [
    "## Material_Creation() Class Method\n",
    "\n",
    "With the orthotropic thermal properties of the PCB board calculated, a new material needs to be added into the heatrapy simulation's mterial database to use in the thermal calculations. \n",
    "\n",
    "The following class method Material_Creation() takes in values for the thermal conductivities, density, and specific heat, and creates a new material called \"PCB_material\" inside of the heatrapy material databse. The functions inside of this class simply overwrite the existing material properties of the existing 'PCB_Material' material.\n",
    "\n",
    "NOTE: Absolute path directory for the material databases needs to be updated on a user-basis."
   ]
  },
  {
   "cell_type": "code",
   "execution_count": 4,
   "id": "467d3c47-355a-4894-b1f0-ad9c6728a635",
   "metadata": {},
   "outputs": [],
   "source": [
    "class Material_Creation:\n",
    "    def __init__(self, k, rho, cp):\n",
    "        self.k   = k\n",
    "        self.rho = rho\n",
    "        self.cp  = cp\n",
    "\n",
    "    def cond_change(abc):\n",
    "        os.chdir(main_dir + '\\heatrapy\\database\\PCB_Material')\n",
    "\n",
    "        # For the '0' type\n",
    "        with open('k0.txt', 'r') as file:\n",
    "            filedata = file.read()\n",
    "            for line in filedata:\n",
    "                words = filedata.split()\n",
    "            old_data = words[1]\n",
    "\n",
    "        k_x = abc.k\n",
    "        new_data = str(k_x)\n",
    "        filedata = filedata.replace(old_data, new_data)\n",
    "\n",
    "        with open('k0.txt', 'w') as file:\n",
    "            file.write(filedata)\n",
    "\n",
    "        # For the 'a' type\n",
    "        with open('ka.txt', 'r') as file:\n",
    "            filedata = file.read()\n",
    "            for line in filedata:\n",
    "                words = filedata.split()\n",
    "            old_data = words[1]\n",
    "\n",
    "        k_x = abc.k\n",
    "        new_data = str(k_x)\n",
    "        filedata = filedata.replace(old_data, new_data)\n",
    "\n",
    "        with open('ka.txt', 'w') as file:\n",
    "            file.write(filedata)\n",
    "        \n",
    "        os.chdir(main_dir)\n",
    "\n",
    "    def density_change(abc):\n",
    "        os.chdir(main_dir + '\\heatrapy\\database\\PCB_Material')\n",
    "\n",
    "        # For the '0' type\n",
    "        with open('rho0.txt', 'r') as file:\n",
    "            filedata = file.read()\n",
    "            for line in filedata:\n",
    "                words = filedata.split()\n",
    "            old_data = words[1]\n",
    "\n",
    "        k_x = abc.rho\n",
    "        new_data = str(k_x)\n",
    "        filedata = filedata.replace(old_data, new_data)\n",
    "\n",
    "        with open('rho0.txt', 'w') as file:\n",
    "            file.write(filedata)\n",
    "\n",
    "        # For the 'a' type\n",
    "        with open('rhoa.txt', 'r') as file:\n",
    "            filedata = file.read()\n",
    "            for line in filedata:\n",
    "                words = filedata.split()\n",
    "            old_data = words[1]\n",
    "\n",
    "        k_x = abc.rho\n",
    "        new_data = str(k_x)\n",
    "        filedata = filedata.replace(old_data, new_data)\n",
    "\n",
    "        with open('rhoa.txt', 'w') as file:\n",
    "            file.write(filedata)\n",
    "        \n",
    "        os.chdir(main_dir)\n",
    "\n",
    "    def cp_change(abc):\n",
    "        os.chdir(main_dir + '\\heatrapy\\database\\PCB_Material')\n",
    "\n",
    "        # For the '0' type\n",
    "        with open('cp0.txt', 'r') as file:\n",
    "            filedata = file.read()\n",
    "            for line in filedata:\n",
    "                words = filedata.split()\n",
    "            old_data = words[1]\n",
    "\n",
    "        k_x = abc.cp\n",
    "        new_data = str(k_x)\n",
    "        filedata = filedata.replace(old_data, new_data)\n",
    "\n",
    "        with open('cp0.txt', 'w') as file:\n",
    "            file.write(filedata)\n",
    "\n",
    "        # For the 'a' type\n",
    "        with open('cpa.txt', 'r') as file:\n",
    "            filedata = file.read()\n",
    "            for line in filedata:\n",
    "                words = filedata.split()\n",
    "            old_data = words[1]\n",
    "\n",
    "        k_x = abc.cp\n",
    "        new_data = str(k_x)\n",
    "        filedata = filedata.replace(old_data, new_data)\n",
    "\n",
    "        with open('cpa.txt', 'w') as file:\n",
    "            file.write(filedata)\n",
    "        \n",
    "        os.chdir(main_dir)"
   ]
  },
  {
   "cell_type": "markdown",
   "id": "21f12be8",
   "metadata": {},
   "source": [
    "## Modelling the PCB Board\n",
    "\n",
    "The PCB in question is made up of 3 materials: Aluminum, Copper, and VT-5A2. The PCB board is Al-clad, meaning the bottom layer of the board is a piece of Aluminum. This is advantageous to do if the PCB is expected to house high power dissipating electrical components since the added Al layer increases the overall thermal conductivity of the board with how thermal resistances are set up. The copper layers serve as the trace layers for the electrical signals to travel throughout the board, and the VT-5A2 is a commerical PCB insulation material that separates the electrical signal layers from each other. \n",
    "<br>\n",
    "<img src=\"https://raw.githubusercontent.com/a0kb0k/Thermal-Analysis-Pictures/main/PCB%20-%20Stack%20Up.png\" width=\"400\"/>\n",
    "<br>\n",
    "<br>\n",
    "Each of these layers are put into the simulation using the PCB_Layer() class function. In this particular case, all the layers are the same length and width - but their thicknesses do differ. The thermal conductivities of each material (notice how the VT-5A2 has different conductivies in the x- and y- direction than its z-direction) are also input into the system. (Below is a snapshot of the datasheet for VT-5A2 showing the different thermal conductivities in the different directions)\n",
    "<br>\n",
    "<img src=\"https://raw.githubusercontent.com/a0kb0k/Thermal-Analysis-Pictures/main/Ventec%20Thermal%20Conductivity.png\" width=\"800\"/>\n",
    "<br>\n",
    "<br>\n",
    "Then once each layer is made in the analysis, this list of materials is stored in a list - which will then become the input for the Overall() class methods."
   ]
  },
  {
   "cell_type": "code",
   "execution_count": 5,
   "id": "af1a78ed-28ab-4e7c-a516-8cad5085c958",
   "metadata": {},
   "outputs": [],
   "source": [
    "# Define Materials using the 'Layer' class\n",
    "# Units are as follows: PCB_Layer(length=m, width=m, thk=m, cond_x=W/mK, cond_y=W/mK, cond_z=W/mK, layers=-)\n",
    "Cu   = PCB_Layer(length=0.1016, width=0.1524, thk=0.00007112, cond_x=334.400, cond_y=334.400, cond_z=334.400, rho=8933, cp=385,  layers=2)\n",
    "VT   = PCB_Layer(length=0.1016, width=0.1524, thk=0.00010160, cond_x=2.200,   cond_y=2.200,   cond_z=3.400,   rho=2200, cp=1100, layers=2)\n",
    "Al   = PCB_Layer(length=0.1016, width=0.1524, thk=0.00157480, cond_x=167.0,   cond_y=167.0,   cond_z=167.0,   rho=2700, cp=910,  layers=1)\n",
    "\n",
    "# Stores all layer info in a list\n",
    "Layer_Materials = [Cu, VT, Al]"
   ]
  },
  {
   "cell_type": "markdown",
   "id": "16932a25",
   "metadata": {},
   "source": [
    "The overall orthotropic thermal conductivities, density, and specific heats are then calculated using the Overall() class methods, with are assigned to a variable for use later on."
   ]
  },
  {
   "cell_type": "code",
   "execution_count": 6,
   "id": "fc69b063-6693-4188-831f-b9872dd882f1",
   "metadata": {},
   "outputs": [
    {
     "name": "stdout",
     "output_type": "stream",
     "text": [
      "k_x is 143.2085 W/mK\n",
      "k_y is 143.2085 W/mK\n",
      "k_z is 27.5817 W/mK\n",
      "cp is 812.4825 J/kgK\n",
      "Density is 3108.7937 kg/m^3\n"
     ]
    }
   ],
   "source": [
    "# Calculate Overall Conductivities using the 'Conductance' class methods\n",
    "PCB_k_x = Overall.conductivity_x(Layer_Materials)\n",
    "PCB_k_y = Overall.conductivity_y(Layer_Materials)\n",
    "PCB_k_z = Overall.conductivity_z(Layer_Materials)\n",
    "PCB_cp  = Overall.cp_all(Layer_Materials)\n",
    "PCB_rho = Overall.density_all(Layer_Materials)\n",
    "\n",
    "print(\"k_x is \" + str(round(PCB_k_x,4)) + \" W/mK\")\n",
    "print(\"k_y is \" + str(round(PCB_k_y,4)) + \" W/mK\")\n",
    "print(\"k_z is \" + str(round(PCB_k_z,4)) + \" W/mK\")\n",
    "print(\"cp is \" + str(round(PCB_cp,4)) + \" J/kgK\")\n",
    "print(\"Density is \" + str(round(PCB_rho,4)) + \" kg/m^3\")"
   ]
  },
  {
   "cell_type": "markdown",
   "id": "328529c4",
   "metadata": {},
   "source": [
    "With the new thermal properties calculated, these values are then assigned to a new material via the Material_Creation() class methods."
   ]
  },
  {
   "cell_type": "code",
   "execution_count": 7,
   "id": "ab05fad4",
   "metadata": {},
   "outputs": [],
   "source": [
    "PCB_Material = Material_Creation(round(PCB_k_x), round(PCB_rho), round(PCB_cp))\n",
    "\n",
    "PCB_Material.cond_change()\n",
    "PCB_Material.density_change()\n",
    "PCB_Material.cp_change()"
   ]
  },
  {
   "cell_type": "markdown",
   "id": "903bf636",
   "metadata": {},
   "source": [
    "## Electrical Component Modeling\n",
    "\n",
    "With the PCB now created, the next step is to add the electrical components since they not only serve as the main heat sources for the simulation, but are also the targets of interest for the analysis. \n",
    "<br>\n",
    "<img src=\"https://raw.githubusercontent.com/a0kb0k/Thermal-Analysis-Pictures/main/PCB%20-%20All%20Views.png\" width=\"1000\"/>\n",
    "<br>\n",
    "Due to how heatrapy works, a 2D thermal analysis will be created. In this case, the electrical components will be modeled on the PCB with the pad geometries of the component's electrical leads. \n",
    "<br>\n",
    "<img src=\"https://raw.githubusercontent.com/a0kb0k/Thermal-Analysis-Pictures/main/Components%20-%203%20Footprints.png\" width=\"1000\"/>png)\n",
    "<br>\n",
    "Two new classes were made - PCB_Comp_sqr() and PCB_Comp_cir() - that will help facilitate the integration of these components into heatrapy. They mainly take in the geometry and position of the components and its estimated power dissipation. \n",
    "\n",
    "<img src=\"https://raw.githubusercontent.com/a0kb0k/Thermal-Analysis-Pictures/main/Components%20-%20Emphasis.png\" width=\"800\"/>png)\n",
    "<br>\n",
    "The first two inputs of the PCB_Comp_sqr() class - bl_x and bl_y - are the global positions of the bottom-left corner of the component's lead pads. The next two inputs - width and height - are simply the width and heights of the pad, and taken from the component's datasheet. The 'ori' input serves as the orientation of the component with a value of \"1\" being vertical (where the longest length of the pad is along the global y-dir) and a value of \"0\" being horizontal (where the longest length of the pad is in the global x-dir).A similar approach is done for the PCB_Comp_cir() class method.\n",
    "<br>\n",
    "<br>\n",
    "With these inputs, the class automatically calculates the required inputs needed from heatrapy to integrate the electrical component in the model. "
   ]
  },
  {
   "cell_type": "code",
   "execution_count": 8,
   "id": "6926c09f-8c9c-48a8-bd8b-de4e11f6942d",
   "metadata": {},
   "outputs": [],
   "source": [
    "# Class for Square Components\n",
    "# Units are as follows: PCB_Comp_sqr(bl_x=cm, bl_y=cm, width=cm, height=cm, ori=-, power=cW)\n",
    "class PCB_Comp_sqr:\n",
    "    def __init__(self, bl_x, bl_y, width, height, ori, power):\n",
    "        self.bl_x = bl_x\n",
    "        self.bl_y = bl_y\n",
    "        self.width =  width\n",
    "        self.height = height\n",
    "        self.ori = ori\n",
    "        self.power = power\n",
    "\n",
    "    def shape(abc):\n",
    "        return 'square'\n",
    "        \n",
    "    def blc(abc):\n",
    "        return (abc.bl_x, abc.bl_y)   \n",
    "\n",
    "    def trc(abc):\n",
    "        top_right_corner = (0, 0)\n",
    "        if abc.ori == 1:\n",
    "            top_right_corner = (abc.bl_x + abc.width, abc.bl_y + abc.height)\n",
    "        else:\n",
    "            top_right_corner = (abc.bl_x + abc.height, abc.bl_y + abc.width)\n",
    "        return top_right_corner\n",
    "\n",
    "    def length(abc):\n",
    "        if abc.ori == 1:\n",
    "            length_code = (abc.width, abc.height)\n",
    "        else:\n",
    "            length_code = (abc.height, abc.width)\n",
    "        return length_code\n",
    "\n",
    "# Class for Circular Components\n",
    "# Units are as follows: PCB_Comp_cir(ctr_x=mm, ctr_y=mm, rad=mm, power=mW)\n",
    "class PCB_Comp_cir:\n",
    "    def __init__(self, ctr_x, ctr_y, rad, power):\n",
    "        self.ctr_x = ctr_x\n",
    "        self.ctr_y = ctr_y\n",
    "        self.rad =  rad\n",
    "        self.power = power\n",
    "\n",
    "    def ctr(abc):\n",
    "        return (abc.ctr_x, abc.ctr_y) \n",
    "\n",
    "    def shape(abc):\n",
    "        return 'circle'"
   ]
  },
  {
   "cell_type": "markdown",
   "id": "3dc99e0f",
   "metadata": {},
   "source": [
    "## Creating the Components\n",
    "\n",
    "A preliminary power analysis was done on the PCB beforehand and indicated that the following components had the highest power dissipation:\n",
    ">2 FETs (IMBG65R048M1HXTMA1 from Infineon)<br>\n",
    "2 Transformers (CAT6243 from Onsemi)<br>\n",
    "2 Inductors (DMN3020UTS by Diodes Inc)<br>\n",
    "1 Common Mode Choke (SCF47X-200-S1R8B011JH by Kemet)<br>\n",
    "\n",
    "Separate objects are created for each electrical lead of each component. In context of the problem, each of the components (except for the common mode choke) only have two electrical leads (and can be verified in the component's datasheet). This means that each component has two separate bodies made using the PCB_Comp_sqr() class. \n",
    "<br>\n",
    "<img src=\"https://raw.githubusercontent.com/a0kb0k/Thermal-Analysis-Pictures/main/Components%20-%204%20Models.png\" width=\"1000\"/>\n",
    "<br>\n",
    "These are then saved into a list for integrating into heatrapy.\n",
    "\n",
    "### Note About the Units\n",
    "\n",
    "It is important to note the units of choice is not ideal for dealing with typical PCBs and electrical components. In practice, it is better to use mm as the units of choice since this is typically how the electrical components are dimensioned in their datasheet. However, the heatrapy module takes in cm as the default units of choice. While this can be chaged in the arguments of the class methods, we experienced run-time errors when changing them. This most likely occurs due to the additional decimal places exceeding the maximum number of float digits when running the scalar calculations inside of the heatrapy class methods. Keeping the default units (cm) was the only way to get the script to run properly.\n",
    "\n",
    "With that said, the results of the thermal simulation will lose accuracy because of this. It will be clearer when the 'Materials' and 'Heat Dissipation' plots are shown in the later sections, but the surface area of the components will be many times bigger than what they actually are. In the context of the example problem, the results will not be as accurate as want them to be, but this script will be more useful for components with bigger footprints and profiles.  "
   ]
  },
  {
   "cell_type": "code",
   "execution_count": 9,
   "id": "f2e7a175-e28c-4474-9efb-44e042bba954",
   "metadata": {},
   "outputs": [],
   "source": [
    "# Define components using PCB_Comp Class\n",
    "\n",
    "# PCB Board Size (cm increments)\n",
    "PCB_l = 11 # or 4''\n",
    "PCB_w = 15 # or 6''\n",
    "\n",
    "# FETs are IMBG65R048M1HXTMA1 from Infineon\n",
    "FET_1a = PCB_Comp_sqr(bl_x=3, bl_y=3, width=1, height=1, ori=1, power=48)\n",
    "FET_2a = PCB_Comp_sqr(bl_x=4, bl_y=3, width=1, height=1, ori=1, power=28)\n",
    "FET_3a = PCB_Comp_sqr(bl_x=6, bl_y=3, width=1, height=1, ori=1, power=20)\n",
    "\n",
    "# Transformers are CAT6243 from Onsemi\n",
    "Transformer_1a = PCB_Comp_sqr(bl_x=10, bl_y=7, width=1, height=1, ori=1, power=44)\n",
    "Transformer_2a = PCB_Comp_sqr(bl_x=10, bl_y=8, width=1, height=1, ori=0, power=22)\n",
    "\n",
    "# Inductors are DMN3020UTS by Diodes Inc\n",
    "Inductor_1a = PCB_Comp_sqr(bl_x=3, bl_y=8, width=1, height=1, ori=1, power=60)\n",
    "Inductor_2a = PCB_Comp_sqr(bl_x=5, bl_y=8, width=1, height=1, ori=1, power=30)\n",
    "\n",
    "# Common Mode Choke is SCF47X-200-S1R8B011JH by Kemet\n",
    "Choke_1 = PCB_Comp_cir(ctr_x=10, ctr_y=3, rad=2.1, power=4)"
   ]
  },
  {
   "cell_type": "code",
   "execution_count": 10,
   "id": "44b3ad78-2686-467f-9cf2-5071d35ad65f",
   "metadata": {},
   "outputs": [],
   "source": [
    "# Store all square component information in a list\n",
    "Component_list_sqr = [FET_1a, FET_2a, FET_3a,\n",
    "              Transformer_1a, Transformer_2a,\n",
    "              Inductor_1a, Inductor_2a]\n",
    "\n",
    "# Store all circular component information in a list\n",
    "Component_list_cir = [Choke_1]"
   ]
  },
  {
   "cell_type": "markdown",
   "id": "ef69bb21",
   "metadata": {},
   "source": [
    "# Thermal Simulation\n",
    "\n",
    "Due to how the PCB is set-up, a SingleObject2D() class method from heatrapy is appropriate for the model.\n",
    "\n",
    "In this particular case, heatrapy is running a transient analysis. The initial temeprature was specified to be 27 C (or 300 K), and the units will be in mm (but the resulting plots will show the positions in meters, m). Material properties (which is the PCB_Material that was calculated beforehand in this code) and sizing are also taken as inputs.\n",
    "\n",
    "Heatrapy also requires boundary conditions for the edges. If there is a specific temperature the edges are held to, they would be input it in Kelvins in the 'boundaries' tuple. A value of '0', however will turn the edge specified into an insulated condition - which is a worst-case scenario for any PCB. To make this analysis conservative, we will be treating all the edges as insulated. \n",
    "\n",
    "Incidentally, with all the conditions we are imposing on the analysis, the PCB is essentially exposed to a vacuum since there will not be any convection cooling on any side of the board. "
   ]
  },
  {
   "cell_type": "code",
   "execution_count": 11,
   "id": "d4218f4b-08bd-4540-98cd-4997e829def0",
   "metadata": {
    "scrolled": true
   },
   "outputs": [],
   "source": [
    "# Initiate heatrapy simulation\n",
    "Project_Example = htp.SingleObject2D(\n",
    "    300,\n",
    "    material='PCB_Material',\n",
    "    boundaries=(0, 0, 0, 0),\n",
    "    size=(PCB_w, PCB_l),\n",
    "    draw=[])"
   ]
  },
  {
   "cell_type": "markdown",
   "id": "2643be05-8bac-4708-a82e-8b1535969d91",
   "metadata": {},
   "source": [
    "## Cooling Effects\n",
    "\n",
    "(DIEGO CAN CHANGE)"
   ]
  },
  {
   "cell_type": "markdown",
   "id": "443bc369-52f5-433b-bc9d-c7abd9bc1834",
   "metadata": {},
   "source": [
    "## Apply Cooling Effects in Simulation\n",
    "\n",
    "The main goal of this analysis is to see the different effects of heatsinks have on a running PCB board. With the system layout, the PCB will be cooled from the underside of the board. This means that the entire underside of the board is experiencing a heat input -  but in the negative direction since it is being cooled. And the amount of cooling the board is experiencing is calculated from the 'HEATSINK CALCULATION' section previously. \n",
    "\n",
    "(Diego - REMEMBER TO CHANGE THE POWER VALUE WITH THE COOLING FROM HEATSINK SECTION - PREFERRABLY A VARIABLE. Just change the line that says 'power=0.1' to the value that you need. Make sure to do this for both all references of 'power' in this block)"
   ]
  },
  {
   "cell_type": "markdown",
   "id": "eebfca18-a95c-48d6-ac4b-658fda22815a",
   "metadata": {},
   "source": [
    "(Diego to write some stuff here)"
   ]
  },
  {
   "cell_type": "code",
   "execution_count": 12,
   "id": "cb10adcc-1e70-4631-b47e-38e858082fd5",
   "metadata": {},
   "outputs": [],
   "source": [
    "Project_Example.change_power(\n",
    "    shape='square', \n",
    "    power_type='Q', \n",
    "    initial_point=(0,0), \n",
    "    final_point=(PCB_w, PCB_l),\n",
    "    power=0.1)\n",
    "\n",
    "Project_Example.change_power(\n",
    "    shape='square', \n",
    "    power_type='Q0', \n",
    "    initial_point=(0,0), \n",
    "    final_point=(PCB_w, PCB_l),\n",
    "    power=0.1)\n",
    "\n",
    "Project_Example.activate(\n",
    "    initial_point=(0,0), \n",
    "    final_point=(PCB_w, PCB_l),\n",
    "    shape='square')"
   ]
  },
  {
   "cell_type": "markdown",
   "id": "77b86bf6-4867-473c-9f91-9d364abca9e1",
   "metadata": {},
   "source": [
    "## Applying Component Leads to Model\n",
    "\n",
    "Working in the heatrapy library, the next thing we will need to implement are the PCB leads on the board. With how the PCB_Comp_sqr() and PCB_Comp_cir() class were set up, integrating them into heatrapy can be done with a simple for-loop for each of the component types - square and circular. \n",
    "\n",
    "To integrate them into heatrapy, we will need to specify the location and size of the PCB lead and assign it a material - which is copper in this case (and is typically so in most commercial applications). Once the material is placed in the heatrapy model, a sewparate function to activate the area is needed. These are both done in the for-loop. It is also important to note that the sequence of these events needs to happen in the ordered specified. "
   ]
  },
  {
   "cell_type": "code",
   "execution_count": 13,
   "id": "8b01af71-5af5-4643-bb69-5dbcf120b27a",
   "metadata": {
    "scrolled": true
   },
   "outputs": [],
   "source": [
    "# Add square component leads onto board\n",
    "for sqr_component in Component_list_sqr:\n",
    "    Project_Example.change_material(\n",
    "        material='Cu',\n",
    "        shape=sqr_component.shape(),\n",
    "        initial_point=sqr_component.blc(),\n",
    "        length=sqr_component.length())\n",
    "\n",
    "    Project_Example.activate(\n",
    "        initial_point=sqr_component.blc(), \n",
    "        final_point=sqr_component.trc(), \n",
    "        shape='square')\n",
    "\n",
    "# Add circular component leads onto board\n",
    "for cir_component in Component_list_cir:\n",
    "    Project_Example.change_material(\n",
    "        material='Cu',\n",
    "        shape=cir_component.shape(),\n",
    "        initial_point=cir_component.ctr(),\n",
    "        length=cir_component.rad)\n",
    "\n",
    "    Project_Example.activate(\n",
    "        initial_point=cir_component.ctr(), \n",
    "        final_point=cir_component.rad, \n",
    "        shape='circle')"
   ]
  },
  {
   "cell_type": "markdown",
   "id": "2e9e349e-32dd-4689-baab-f8011d5087d1",
   "metadata": {},
   "source": [
    "## Adding Component Power Dissipations\n",
    "\n",
    "With the PCB leads specfied and active in the model, a power dissipation factor will need to be applied to each of the bodies. And again - thanks to the format of the PCB_Comp_sqr() and PCB_Comp_cir() classes - this can be achieved with a single for-loop."
   ]
  },
  {
   "cell_type": "code",
   "execution_count": 14,
   "id": "caadc3b8-99a8-4503-be0f-5e6c10abf263",
   "metadata": {},
   "outputs": [],
   "source": [
    "# Change component power dissipations for square components\n",
    "for sqr_component in Component_list_sqr:\n",
    "    Project_Example.change_power(\n",
    "        shape=sqr_component.shape(), \n",
    "        power_type='Q', \n",
    "        initial_point=sqr_component.blc(), \n",
    "        final_point=sqr_component.trc(), \n",
    "        power=sqr_component.power)\n",
    "    \n",
    "    Project_Example.change_power(\n",
    "        shape=sqr_component.shape(), \n",
    "        power_type='Q0', \n",
    "        initial_point=sqr_component.blc(), \n",
    "        final_point=sqr_component.trc(), \n",
    "        power=sqr_component.power)    \n",
    "\n",
    "# Change component power dissipations for circular components\n",
    "for cir_component in Component_list_cir:\n",
    "    Project_Example.change_power(\n",
    "        shape=cir_component.shape(), \n",
    "        power_type='Q', \n",
    "        initial_point=cir_component.ctr(),\n",
    "        final_point=cir_component.rad,\n",
    "        power=cir_component.power)\n",
    "\n",
    "    Project_Example.change_power(\n",
    "        shape=cir_component.shape(), \n",
    "        power_type='Q0', \n",
    "        initial_point=cir_component.ctr(),\n",
    "        final_point=cir_component.rad,\n",
    "        power=cir_component.power)"
   ]
  },
  {
   "cell_type": "markdown",
   "id": "2dd4c475-f4cd-48ae-87a0-473f1a8d6e09",
   "metadata": {},
   "source": [
    "## Material and Heat Dissipation Plots\n",
    "\n",
    "Below will show the model of PCB board in the heatrapy simulation. The materials plot will show general locations of where the components typically are amd nd the Heat dissipation map will show the heat flux of all the components. The heat flux map gives a sense for the intensity of the heat dissipation with its contour scaling.\n",
    "\n",
    "As mentioned previously, the scaling of the plot is not ideal. And this is due to the default parameters of the heatrapy module. The heatrapy module takes in cm as its default unit of choice - and increasing the resolution to mm results in run-time errors when doing the heat calculations. The electrical components are dimensioned in mm since their leads are very small. This difference in scaling results in the leads having a much bigger surface area than what it actually is - which in turn will affect the way the heat spreads and the intensity of the hot-spot locations. Ideally having a resolution at the same scale as the PCB leads would be ideal - but at the time of making this script, the default cm was used for this example, which results in over exaggerted PCB lead pads."
   ]
  },
  {
   "cell_type": "code",
   "execution_count": 15,
   "id": "d272ed78-0fa3-45e8-a0bd-aed71cc84e67",
   "metadata": {},
   "outputs": [
    {
     "data": {
      "image/png": "[encoded data removed]",
      "text/plain": [
       "<Figure size 640x480 with 2 Axes>"
      ]
     },
     "metadata": {},
     "output_type": "display_data"
    },
    {
     "name": "stdout",
     "output_type": "stream",
     "text": [
      "['PCB_Material', 'Cu']\n"
     ]
    },
    {
     "data": {
      "image/png": "[encoded data removed]",
      "text/plain": [
       "<Figure size 640x480 with 2 Axes>"
      ]
     },
     "metadata": {},
     "output_type": "display_data"
    }
   ],
   "source": [
    "# Check simulation set-up\n",
    "Project_Example.show_figure(figure_type = 'materials')\n",
    "Project_Example.show_figure(figure_type = 'Q0')"
   ]
  },
  {
   "cell_type": "markdown",
   "id": "a8eb457f-8943-4554-a09e-3341454c3bd1",
   "metadata": {},
   "source": [
    "## Running the Simulation\n",
    "\n",
    "With the materials and power dissipations set up, we run the heatrapy command to run the simulation. \n",
    "\n",
    "In this particular case, we are running the simulation for 120 seconds (or 2 min) and recording data every 1 second. \n",
    "\n",
    "In this case, heatrapy is running a transient analysis with each of the components running at their specified powers at a constant rate while under the specified boundary conditions - which were the insulated sides."
   ]
  },
  {
   "cell_type": "code",
   "execution_count": 16,
   "id": "6f5a0c8d-ca60-4def-ac8e-84f80d971add",
   "metadata": {},
   "outputs": [
    {
     "name": "stdout",
     "output_type": "stream",
     "text": [
      "Finished simulation\n"
     ]
    },
    {
     "data": {
      "image/png": "[encoded data removed]",
      "text/plain": [
       "<Figure size 640x480 with 2 Axes>"
      ]
     },
     "metadata": {},
     "output_type": "display_data"
    }
   ],
   "source": [
    "Project_Example.compute(1200, 10, solver='explicit_general')\n",
    "Project_Example.show_figure('temperature')"
   ]
  },
  {
   "cell_type": "markdown",
   "id": "0291af9f-202e-4f19-9333-3660dcf4ab4b",
   "metadata": {},
   "source": [
    "Once the simulation is complete, a temperature plot of the PCB board is generated - which will then lead to us calculating the temperature margins of each component. This will then tell us how effective the heatsinks were in cooling the components while active. "
   ]
  },
  {
   "cell_type": "markdown",
   "id": "4c2c6d04-3e09-4dcd-b6c0-1d8ee4fa5d9f",
   "metadata": {},
   "source": [
    "# Accuracy\n",
    "\n",
    "A simple thermal analysis was ran on Solidworks to compare the accuracy of heatrapy's results. In order to establish a baseline, a thermal analysis WITHOUT any effects from the heatsinks was made. With this, the accuracy of the model and thermal equations of heatrapy can be validated. \n",
    "<br>\n",
    "<img src=\"https://raw.githubusercontent.com/a0kb0k/Thermal-Analysis-Pictures/main/FEA%20-%203D%20Model.png\" width=\"800\"/>\n",
    "<br>\n",
    "<br>\n",
    "A simplified PCB board that does not include the mounting holes was made. Control Surfaces were placed on the simplified PCB board to simulate the PCB lead pads that were put in heatrapy's model. \n",
    "<br>\n",
    "<img src=\"https://raw.githubusercontent.com/a0kb0k/Thermal-Analysis-Pictures/main/FEA%20-%20Solder%20PAds.PNG\" width=\"800\"/>\n",
    "<br>\n",
    "<br>\n",
    "The thermal properties of the PCB were then input into the PCB material in Solidworks. It was found out in the PCB section of this notebook that the thermal conductivities in the transverse direction was 143.208 W/mK and 27.5817 W/mK in the normal direction (NOTE: the y-direction is the normal direction in the Solidworks model and in the z-direction in heatrapy). The values of the densities and specific heat were also input into the PCB materials list. The PCB electrical lead pads were treated as Cold-Rolled Copper, which has similar properties to those in the heatrapy standard material library. Then finally, an initial temperature of 300 K was imposed in the Solidworks model - the same condition as was set in heatrapy. \n",
    "<br>\n",
    "<img src=\"https://raw.githubusercontent.com/a0kb0k/Thermal-Analysis-Pictures/main/FEA%20-%20Parameters.PNG\" width=\"800\"/>\n",
    "<br>\n",
    "<br>\n",
    "With the control surfaces set up in the Solidworks model, the same heat fluxes were put into the same locations as they were in the heatrapy model. One interesting thing to note is that the Solidworks model has a more robust and distinct contour than in the heatrapy model. This is mainly because of the scaling of the heatrapy heat flux plot. Unfortunately, there was no input argument to fix the scaling of the heat flux plot in heatrapy, but the fact that that we can see a slight gradient on the edges of the control surfaces matches with the gradient shape we see in the Solidworks model. \n",
    "<br>\n",
    "<img src=\"https://raw.githubusercontent.com/a0kb0k/Thermal-Analysis-Pictures/main/FEA%20-%20Heat%20Dissipation.PNG\" width=\"800\"/>\n",
    "<br>\n",
    "<br>\n",
    "Finally, a somewhat fine mesh was put over the Solidworks model. In this case - because of all the simplifications we did on the Solidworks model - we can put a fine mesh as shown below. However, the more complex the lead shapes are and the more components that need to be modeled there are, the mesh quality can get out of hand. This is what gives the heatrapy modelling an advantage since it is more forgiving on the meshing to an extent.\n",
    "<br>\n",
    "<img src=\"https://raw.githubusercontent.com/a0kb0k/Thermal-Analysis-Pictures/main/FEA%20-%20Mesh.PNG\" width=\"600\"/>\n",
    "<br>\n",
    "<br>\n",
    "The Solidworks simulation was then ran as a transient thermal analysis for two minutes. The thermal plot of the board after the 2 minutes is shown below.\n",
    "<br>\n",
    "<img src=\"https://raw.githubusercontent.com/a0kb0k/Thermal-Analysis-Pictures/main/FEA%20-%20Temp%20Gradient.PNG\" width=\"800\"/>\n",
    "<br>\n",
    "<br>\n",
    "At a glance, we can see that the contour plots look very similar to each other. Again, the Solidworks simulation has a more robust gradient than the heatrapy model - but this is due to heatrapy having no argument on the scaling for the temperature plot. Regardless, the hot spot zones are in the appropriate places, and - most importantly - the gradient looks very similar. If you take the shape of the green color in the Solidworks plot, it looks very similar to the sky blue color in the heatrapy model. This gives the heatrapy model a good level of confidence to be used for quick thermal analyses. "
   ]
  },
  {
   "cell_type": "markdown",
   "id": "8d69a2dd-9752-4d98-baf5-94b6764feae8",
   "metadata": {
    "jp-MarkdownHeadingCollapsed": true
   },
   "source": [
    "# Results\n",
    "\n",
    "Instructions to Diego on how to do the results section:\n",
    "\n",
    "You will first need to be able to find the results file for this simulation and be able to probe the temperatures at certain locations. I think a script to automatically open the file and use the positions of the components (previously defined in the PCB_Comp_sqr() and PCB_Comp_Cir() classes would be good) and searches for the max temperature at that location/range would be good. Of course, if you don't have time for it, we can always just eyeball it ourselves and write that making the script is an improvement in the 'Imporvement' section. I will say, though, that the temperature scale for the temperature plot is kind of weird and I don't know how to fix that. But anyway, getting these probed temperatures is the main reason why I am leaving this section up to you - since you will have the actual results because what I currently have (at the time of writing this) does not include the cooling effects of the heatsinks. \n",
    "\n",
    "After probing the temperature spots, make sure to add the junction-to-temperature values based on probed temperatures and component power dissipations. And this is because the actual hottest spot of a component is not the case, but is actually the resistive element inside of the component that is generating the actual power. To calculate this, component datasheets often give you a linear apporximation of this spot, defined as the Thermal Junction-to-Case Resistances (Maybe include a screenshot of these values here - I made sure to choose components that had these listed to make our lives easier). It's 0.82 C/W for the FETs, 10 C/W for the transformers, and 17 C/W for the inductors. Basically, you can calculate the maximum internal temperature of a component by multiplying this junction-to-case temperature by the power dissipation of the components to get a temperature rise, which is then added to the probed temperature. So for example, let's say the proved temperature was 120 C --> take the inductors for example, one of them has an ouput of .1W --> Multiply this power by the junction-to-case value: .1W * 17 C/W = 1.7 C --> Add this temperature rise to the probed temperature: 120 C + 1.7 C = 121.7 C --> Verify this junction temperature is less than the max rated temperature of the component (175 C for the FETs, 150 C for the Transformers, 150 C for the inductors - which is also listed in the datasheet, maybe it's also worth it to put this in a table). Then we can say that a component is passing if we have positive margins.\n",
    "\n",
    "I think it would be nice to see a table for the different max temperatures of the components with the different heatsink values. Also, try to reword my instructions when writing this section out since I was just freestyling it and not making it very professional or anything. Also, make sure to emphaisze the junction temperatures being the true max temperature of the component. Then finally, make some comments on which heatsink worked best. Maybe the 'Results' Section can have at least three sub-sections for 'Heatsink Cooling','Component Temperatures', and 'Conclusions'.\n",
    "\n",
    "But I am hoping that with the implementation of this junction temperature calculation and tables for referencing probed temps, junction rises, power dissap, max junction temp, and temp margin will be enough for our post-process analysis requirement. Of course, adding another post-process for the heatsinks will also be nice to have. Then there is the conclusions, as well, which I can also help with if needed.\n",
    "\n",
    "Let me know if you have any questions"
   ]
  },
  {
   "cell_type": "markdown",
   "id": "e68c8960-805a-4830-83de-4c3ac8b4b4a0",
   "metadata": {},
   "source": [
    "# Improvements"
   ]
  },
  {
   "cell_type": "markdown",
   "id": "955fd7bb-d8c8-42ac-9fd2-5af6bcbfb064",
   "metadata": {},
   "source": [
    "## Dimension Resolution\n",
    "\n",
    "The default resolution for the positional steps is .01 m (or cm) in the heatrapy module. Typical PCB lead sizes and locations are given in mm in their datasheets due to how small and compact their casings are. Increasing the resolution of the thermal simulation to mm often resulted in run-time errors in our experience, so this example was conducted with the default cm instead. However, this leads to other inaccuracies that could impact the results of the thermal analysis - such as over-exaggerated PCB lead pad locations that affect thermal spreading and heat flux inputs. While this script may be ideal for larger PCBs with large component leads and distinct spacing that works with a cm resolution, modelling and simulating smaller PCB boards with common COTS components leads might not be the most reliable because of this. One way to improve this code would be to try to address the run-time errors from the increased resolution of the dimenionsal steps. "
   ]
  },
  {
   "cell_type": "markdown",
   "id": "c34f7b16-fcd4-4d0d-baa6-7405fc7d6af9",
   "metadata": {},
   "source": [
    "## Additional Materials\n",
    "\n",
    "One drawback to this script is that there was not a very clean way of adding additional materials to the heatrapy material library indefinitely. Currently, the Material_Creation() class methods only alter one material in the material database, the 'PCB_Material' file that was created manually first (and altered in this script). At the time of making this code, we could not find a way to make new materials in the database with all the required text files and values inside of them, so one area of improvement would be to make a new script that makes additional materials. And this would be useful since the component leads and pads are not always made of Copper."
   ]
  },
  {
   "cell_type": "markdown",
   "id": "a04f7d31-118c-42de-a6db-28430d155404",
   "metadata": {},
   "source": [
    "## 3D Simulation\n",
    "\n",
    "The next level of complexity for this would be for a 3D system that takes into account the normal direction, as well. The Overall() class methods do have a function to calculate the thermal conductivity in the normal direction, but there is no current way to integrate that into the system due to the class methods of the heatrapy module. Heatrapy, at the moment, can only model 1D and 2D simulations, so unless the developer makes a new update to integrate a 3D simulation, this will have to either be done using another library, or by ourselves. Developing a code for this ourselves is possible by setting up a system of equations for energy balances in all 3 directions - but was not done in this project due to time limitations. And this would be helpful since seeing the temperature distribution across the heatsink would give a better idea on how to properly space and position components on the PCB board side. Additionally, having a 3D approach also means that we can integrate an additional type of heatsink into the analysis: spot-padding of thermal gap pads in specific locations."
   ]
  },
  {
   "cell_type": "code",
   "execution_count": null,
   "id": "85245e8d-c532-4d6e-b60b-888584a38d92",
   "metadata": {},
   "outputs": [],
   "source": []
  }
 ],
 "metadata": {
  "kernelspec": {
   "display_name": "Python 3 (ipykernel)",
   "language": "python",
   "name": "python3"
  },
  "language_info": {
   "codemirror_mode": {
    "name": "ipython",
    "version": 3
   },
   "file_extension": ".py",
   "mimetype": "text/x-python",
   "name": "python",
   "nbconvert_exporter": "python",
   "pygments_lexer": "ipython3",
   "version": "3.11.7"
  }
 },
 "nbformat": 4,
 "nbformat_minor": 5
}
